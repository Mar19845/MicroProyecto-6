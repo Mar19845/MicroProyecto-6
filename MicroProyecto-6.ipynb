{
 "cells": [
  {
   "cell_type": "markdown",
   "id": "f01f6b2e-c33c-4d9a-b93b-e38fb7696d6d",
   "metadata": {},
   "source": [
    "## Universidad del Valle de Guatemala\n",
    "### Modelado y Simulacion\n",
    "#### MICRO PROYECTO 5\n",
    "##### Juan Marroquin 19845\n",
    "##### Carlos Raxtum 19721"
   ]
  },
  {
   "cell_type": "markdown",
   "id": "f33569f6-b0f5-48f8-9e6c-6cb2b65b155a",
   "metadata": {},
   "source": [
    "import libraries"
   ]
  },
  {
   "cell_type": "code",
   "execution_count": 1,
   "id": "0ee6874f-e087-4202-95bd-d083efd412b6",
   "metadata": {},
   "outputs": [],
   "source": [
    "import numpy as np\n",
    "import math\n",
    "import random\n",
    "import matplotlib.pyplot as plt"
   ]
  },
  {
   "cell_type": "markdown",
   "id": "85ed7d8f-24d6-4c78-a002-17d63afc2ff4",
   "metadata": {},
   "source": [
    "#### Ejercicio 1\n",
    "Se sabe que la probabilidad de cara y escudo en una moneda justa es de 0.5 para cada lado. Pero esto también se puede soportar de forma experimental a través de usar el método de Monte Carlo. Por ello.\n",
    "##### Tasks:\n",
    "* Cree un programa en su lenguaje de programación favorito que use el método de Monte Carlo para determinar la probabilidad de cara o escudo en una moneda justa\n",
    "* Grafique usando una gráfica de línea las iteraciones (eje x) y la probabilidad de de las mismas (eje y)."
   ]
  },
  {
   "cell_type": "code",
   "execution_count": 2,
   "id": "d68c638c-4372-4939-8388-21404ca1a048",
   "metadata": {},
   "outputs": [],
   "source": [
    "#taken from https://medium.com/analytics-vidhya/monte-carlo-simulation-with-python-724ec381ae6e\n",
    "# other example https://www.askpython.com/python/examples/monte-carlo-simulation"
   ]
  },
  {
   "cell_type": "code",
   "execution_count": 3,
   "id": "45043a68-a2fe-4f54-9e9d-112c8b3f47dc",
   "metadata": {},
   "outputs": [],
   "source": [
    "def flipCoin():\n",
    "    'This function has been written to simulate the flipping of coin'\n",
    "    return random.randint(0,1)"
   ]
  },
  {
   "cell_type": "code",
   "execution_count": 4,
   "id": "4bc1a29d-459c-4e11-a0de-0c8c57459329",
   "metadata": {},
   "outputs": [],
   "source": [
    "def monteCarlo(numIteration):\n",
    "    finalProbValues = []\n",
    "    results = 0\n",
    "    for i in range(numIteration) :\n",
    "        results += flipCoin()\n",
    "        intermediateProbability = results/(i+1)\n",
    "        finalProbValues.append(intermediateProbability)\n",
    "        plt.title('No. of Iterations vs Probability of Fliped Coin')\n",
    "        plt.axhline(y=0.5, color = 'b', linestyle = '-')\n",
    "        plt.xlabel(\"No. of Iterations\")\n",
    "        plt.ylabel('Probability')\n",
    "        plt.plot (finalProbValues)\n",
    "    return results/numIteration"
   ]
  },
  {
   "cell_type": "code",
   "execution_count": 5,
   "id": "e34830c7-2131-4513-a9e5-237f05be59ba",
   "metadata": {},
   "outputs": [],
   "source": [
    "numTest = [100,1000,10000,100000]"
   ]
  },
  {
   "cell_type": "code",
   "execution_count": 6,
   "id": "567a1318-0250-43ab-8203-f10a82dde2af",
   "metadata": {},
   "outputs": [
    {
     "name": "stdout",
     "output_type": "stream",
     "text": [
      "Probability is  0.517\n"
     ]
    },
    {
     "data": {
      "image/png": "[encoded data removed]",
      "text/plain": [
       "<Figure size 432x288 with 1 Axes>"
      ]
     },
     "metadata": {
      "needs_background": "light"
     },
     "output_type": "display_data"
    }
   ],
   "source": [
    "print('Probability is ',monteCarlo(numTest[1]))"
   ]
  },
  {
   "cell_type": "markdown",
   "id": "c87e50af-e5a3-45dd-8fe5-9e7939ffa3c9",
   "metadata": {},
   "source": [
    "#### Ejercicio 2\n",
    "Consideren un juego imaginario en el que el jugador tiene que escoger una token numerado de 1 a 100 de una caja.\n",
    "Las reglas son las siguientes:\n",
    "1. Los tokens están numerados de 1 a 100 en la caja\n",
    "2. Los jugadores pueden apostar por un número par o impar que saldrá al tomar el token de la caja\n",
    "3. En este juego, 10 y 11 son números especiales. Si se apuesta por un número par, entonces 10 será considerado un número impar; si se apuesta por un número impar, entonces 11 será considerado como un número par.\n",
    "4. Si se apuesta por un número par y se obtiene 10 entonces se pierde.\n",
    "5. Si se apuesta por un número impar y se obtiene 11 entonces se pierde\n",
    "\n",
    "##### Tasks:\n",
    "* Calcule cuál es la ventaja de la casa en ambos casos (número par e impar).\n",
    "* Cree un programa que simule el juego mencionado y en este pueda tener de parámetros\n",
    "    1. La cantidad total de dinero\n",
    "    2. La cantidad de dinero que se apuesta por juego\n",
    "        2. Asuma que la cantidad de apuesta es la misma que gana o pierde, dependiendo del caso. Es decir, si se apuesta 100 puede ganar otros 100 o perder 100.\n",
    "    3. El número de juegos totales\n",
    "* Grafique el número de apuestas (eje x) con la cantidad de dinero total (eje y) para la siguientes especificaciones\n",
    "    1. 50 juegos, con 10 iteraciones\n",
    "    2. 50 juegos, con 1,000 iteraciones\n",
    "    3. 10,000 juegos, con 10 iteraciones\n",
    "* Concluya, ¿cuál es el mejor escenario en el que el jugador puede tener ganancias en este juego?"
   ]
  },
  {
   "cell_type": "code",
   "execution_count": null,
   "id": "37fef076-0d4d-454e-a593-750d397f75ff",
   "metadata": {},
   "outputs": [],
   "source": []
  }
 ],
 "metadata": {
  "kernelspec": {
   "display_name": "Python 3 (ipykernel)",
   "language": "python",
   "name": "python3"
  },
  "language_info": {
   "codemirror_mode": {
    "name": "ipython",
    "version": 3
   },
   "file_extension": ".py",
   "mimetype": "text/x-python",
   "name": "python",
   "nbconvert_exporter": "python",
   "pygments_lexer": "ipython3",
   "version": "3.9.13"
  }
 },
 "nbformat": 4,
 "nbformat_minor": 5
}
