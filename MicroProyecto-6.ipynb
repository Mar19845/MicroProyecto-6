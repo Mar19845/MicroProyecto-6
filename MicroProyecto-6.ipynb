{
 "cells": [
  {
   "cell_type": "markdown",
   "id": "f01f6b2e-c33c-4d9a-b93b-e38fb7696d6d",
   "metadata": {},
   "source": [
    "## Universidad del Valle de Guatemala\n",
    "### Modelado y Simulacion\n",
    "#### MICRO PROYECTO 5\n",
    "##### Juan Marroquin 19845\n",
    "##### Carlos Raxtum 19721"
   ]
  },
  {
   "cell_type": "markdown",
   "id": "f33569f6-b0f5-48f8-9e6c-6cb2b65b155a",
   "metadata": {},
   "source": [
    "import libraries"
   ]
  },
  {
   "cell_type": "code",
   "execution_count": 1,
   "id": "0ee6874f-e087-4202-95bd-d083efd412b6",
   "metadata": {},
   "outputs": [],
   "source": [
    "import numpy as np\n",
    "import math\n",
    "import random"
   ]
  },
  {
   "cell_type": "code",
   "execution_count": null,
   "id": "6644f335-3a3d-454b-9fb4-1070aedd0a99",
   "metadata": {},
   "outputs": [],
   "source": []
  }
 ],
 "metadata": {
  "kernelspec": {
   "display_name": "Python 3 (ipykernel)",
   "language": "python",
   "name": "python3"
  },
  "language_info": {
   "codemirror_mode": {
    "name": "ipython",
    "version": 3
   },
   "file_extension": ".py",
   "mimetype": "text/x-python",
   "name": "python",
   "nbconvert_exporter": "python",
   "pygments_lexer": "ipython3",
   "version": "3.9.13"
  }
 },
 "nbformat": 4,
 "nbformat_minor": 5
}
